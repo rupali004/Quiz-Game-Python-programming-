{
 "cells": [
  {
   "cell_type": "markdown",
   "id": "7e2d89e0",
   "metadata": {},
   "source": [
    "# CODEWAY Internship Task"
   ]
  },
  {
   "cell_type": "markdown",
   "id": "399eccd0",
   "metadata": {},
   "source": [
    "# Python Programming"
   ]
  },
  {
   "cell_type": "markdown",
   "id": "9a8a25da",
   "metadata": {},
   "source": [
    "# Task 5"
   ]
  },
  {
   "cell_type": "markdown",
   "id": "d7f56fe0",
   "metadata": {},
   "source": [
    "Develop a quiz game that asks users multiple-choice or fill-in-the-blank questions on aspecific topic. The game should keep\n",
    "track of scores, provide feedback oncorrect/incorrect answers, and offer a variety of questions to make it challenging andengaging.\n",
    "\n",
    "Load Quiz Questions.\n",
    "Calculate the Final Score.\n",
    "\n",
    "Display Final Results:\n",
    "Display Welcome Message and Rules.\n",
    "\n",
    "Present Quiz Questions:\n",
    "Display each question and answer choice. Prompt the user toselect an answer.\n",
    "\n",
    "Evaluate the User's Answer:\n",
    "\n",
    "Compare the user's answer with the correct answer. Keeptrack of the user's score.\n",
    "\n",
    "Provide Feedback:\n",
    "\n",
    "Display if the answer was correct or incorrect. Show the correctanswer for incorrect responses.\n",
    "\n",
    "Play Again:\n",
    "Ask the user if they want to play again."
   ]
  },
  {
   "cell_type": "markdown",
   "id": "07f11cc2",
   "metadata": {},
   "source": [
    "# QUIZ GAME"
   ]
  },
  {
   "cell_type": "markdown",
   "id": "6ef15e8b",
   "metadata": {},
   "source": [
    "Quiz 1:-"
   ]
  },
  {
   "cell_type": "code",
   "execution_count": 1,
   "id": "695320f4",
   "metadata": {},
   "outputs": [
    {
     "name": "stdout",
     "output_type": "stream",
     "text": [
      "Which of the following is the smallest unit of memory ??Bit\n",
      "The answer is'bit',not 'Bit'\n",
      "Which of the following computer language is written in binary form ??machine language\n",
      "Correct !\n",
      "Which of the following is not an output device??Scanner\n",
      "Correct !\n"
     ]
    }
   ],
   "source": [
    "Questions = [\n",
    "    (\"Which of the following is the smallest unit of memory ?\", \"bit\"),\n",
    "    (\"Which of the following computer language is written in binary form ?\",\"machine language\"),\n",
    "    (\"Which of the following is not an output device?\",\"Scanner\"),\n",
    "    \n",
    "]\n",
    "\n",
    "for question,correct_answer in Questions:\n",
    "    answer = input(f\"{question}?\")\n",
    "    if answer == correct_answer:\n",
    "        print(\"Correct !\")      \n",
    "    else:\n",
    "        print(f\"The answer is{correct_answer!r},not {answer !r}\")\n",
    "            "
   ]
  },
  {
   "cell_type": "code",
   "execution_count": 2,
   "id": "35b55e55",
   "metadata": {},
   "outputs": [
    {
     "name": "stdout",
     "output_type": "stream",
     "text": [
      " - Bit\n",
      " - Byte\n",
      " - Kb\n",
      " - Nibble\n",
      "Which of the following is the smallest unit of memory ??Bit\n",
      "Correct!\n",
      " - C\n",
      " - JAVA\n",
      " - Machine language\n",
      " - Pascal\n",
      "Which of the following computer language is written in binary form ??Machine language\n",
      "Correct!\n",
      " - Monitor\n",
      " - Plotter\n",
      " - Scanner\n",
      " - Speakers\n",
      "Which of the following is not an output device??Scanner\n",
      "Correct!\n"
     ]
    }
   ],
   "source": [
    "Questions = {\n",
    "    \"Which of the following is the smallest unit of memory ?\" :[\n",
    "        \"Bit\",\"Byte\",\"Nibble\",\"Kb\"\n",
    "    ],\n",
    "    \"Which of the following computer language is written in binary form ?\":[\n",
    "    \"Machine language\",\"C\",\"Pascal\",\"JAVA\"\n",
    "    ],\n",
    "    \"Which of the following is not an output device?\" :[\n",
    "    \"Scanner\",\"Monitor\",\"Plotter\",\"Speakers\"\n",
    "    ],\n",
    "}\n",
    "\n",
    "for question, alternatives in Questions.items():\n",
    "    correct_answer = alternatives[0]\n",
    "    for alternative in sorted(alternatives):\n",
    "        print(f\" - {alternative}\")\n",
    "        \n",
    "    answer =input(f\"{question}?\")\n",
    "    if answer == correct_answer:\n",
    "        print(\"Correct!\")\n",
    "    else:\n",
    "        print(f\"The answer is {correct_answer!r},not {answer!r}\")"
   ]
  },
  {
   "cell_type": "markdown",
   "id": "990abf0e",
   "metadata": {},
   "source": [
    "Quiz 2:-"
   ]
  },
  {
   "cell_type": "code",
   "execution_count": 1,
   "id": "180629b8",
   "metadata": {},
   "outputs": [
    {
     "name": "stdout",
     "output_type": "stream",
     "text": [
      "Welcome to quiz game !!!\n",
      "Note: If Spelling is incorrect then it is considered as wrong answer\n",
      "Do you want to play ?yes\n",
      "\n",
      "1.What is the full form of RAM ?random access memory\n",
      "Correct! You got 1 point\n",
      "\n",
      "2.Which device is used to input data into a computer?keyboard\n",
      "Correct! You got 1 point\n",
      "\n",
      "3.What is the full form of PDF?portable document format\n",
      "Correct! You got 1 point\n",
      "\n",
      "4.Who is known as father of computer?charled babbage\n",
      "Incorrect!\n",
      "Correct answer is => charles babbage\n",
      "\n",
      "5.What is the brain of computer system called ?cpu\n",
      "Correct! You got 1 point\n",
      "\n",
      " Number of question is 5\n",
      "your score is 4\n",
      "80.0% Questions are correct.\n",
      "\n",
      " Thank You!!!!\n"
     ]
    }
   ],
   "source": [
    "print(\"Welcome to quiz game !!!\")\n",
    "print('Note: If Spelling is incorrect then it is considered as wrong answer')\n",
    "Score=0\n",
    "Question_No = 0\n",
    "play= input('Do you want to play ?').lower()\n",
    "if play == 'yes':\n",
    "    Question_No +=1\n",
    "    question =input(f'\\n{Question_No}.What is the full form of RAM ?').lower()\n",
    "    if question == 'random access memory':\n",
    "        Score +=1\n",
    "        print(\"Correct! You got 1 point\")\n",
    "    else:\n",
    "        print('Incorrect!')\n",
    "        print(f'Correct answer is => random access memory')\n",
    "\n",
    "\n",
    "# ***** 1\n",
    "    Question_No +=1\n",
    "    question =input(f'\\n{Question_No}.Which device is used to input data into a computer?').lower()\n",
    "    if question == 'keyboard':\n",
    "        Score +=1\n",
    "        print(\"Correct! You got 1 point\")\n",
    "    else:\n",
    "        print('Incorrect!')\n",
    "        print(f'Correct answer is => keyboard')\n",
    "\n",
    "#******2\n",
    "    Question_No +=1\n",
    "    question =input(f'\\n{Question_No}.What is the full form of PDF?').lower()\n",
    "    if question == 'portable document format':\n",
    "        Score +=1\n",
    "        print(\"Correct! You got 1 point\")\n",
    "    else:\n",
    "        print('Incorrect!')\n",
    "        print(f'Correct answer is => portable document format')\n",
    "\n",
    "#******3\n",
    "    Question_No +=1\n",
    "    question =input(f'\\n{Question_No}.Who is known as father of computer?').lower()\n",
    "    if question == 'charles babbage':\n",
    "        Score +=1\n",
    "        print(\"Correct! You got 1 point\")\n",
    "    else:\n",
    "        print('Incorrect!')\n",
    "        print(f'Correct answer is => charles babbage')\n",
    "\n",
    "#******4\n",
    "    Question_No +=1\n",
    "    question =input(f'\\n{Question_No}.What is the brain of computer system called ?').lower()\n",
    "    if question == 'cpu':\n",
    "        Score +=1\n",
    "        print(\"Correct! You got 1 point\")\n",
    "    else:\n",
    "        print('Incorrect!')\n",
    "        print(f'Correct answer is => cpu')\n",
    "        \n",
    "# ***** 5\n",
    "else:\n",
    "        print('Thank you are out of a game.')\n",
    "        quit()\n",
    "        \n",
    "print(f'\\n Number of question is {Question_No}')\n",
    "print(f'your score is {Score}')\n",
    "try:\n",
    "    percentage = (Score *100)/Question_No\n",
    "except ZeroDivisionError:\n",
    "    print('0% question are correct')\n",
    "    \n",
    "print(f'{percentage}% Questions are correct.')\n",
    "print(f'\\n Thank You!!!!')\n",
    "\n",
    "                    "
   ]
  },
  {
   "cell_type": "code",
   "execution_count": null,
   "id": "fd90d860",
   "metadata": {},
   "outputs": [],
   "source": []
  }
 ],
 "metadata": {
  "kernelspec": {
   "display_name": "Python 3 (ipykernel)",
   "language": "python",
   "name": "python3"
  },
  "language_info": {
   "codemirror_mode": {
    "name": "ipython",
    "version": 3
   },
   "file_extension": ".py",
   "mimetype": "text/x-python",
   "name": "python",
   "nbconvert_exporter": "python",
   "pygments_lexer": "ipython3",
   "version": "3.9.13"
  }
 },
 "nbformat": 4,
 "nbformat_minor": 5
}
